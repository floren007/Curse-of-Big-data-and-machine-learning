{
 "cells": [
  {
   "cell_type": "markdown",
   "id": "496631ea",
   "metadata": {},
   "source": [
    "# Módulo 1: Análisis de datos en el ecosistema Python"
   ]
  },
  {
   "cell_type": "markdown",
   "id": "3a14cd3f",
   "metadata": {},
   "source": [
    "### Sesión (11)"
   ]
  },
  {
   "cell_type": "markdown",
   "id": "6acd93e7",
   "metadata": {},
   "source": [
    "**21/11/2022**"
   ]
  },
  {
   "cell_type": "markdown",
   "id": "aeef08ce",
   "metadata": {},
   "source": [
    "## Aplicar un caso de uso (*Regresión*)"
   ]
  },
  {
   "cell_type": "code",
   "execution_count": null,
   "id": "f019bc38",
   "metadata": {},
   "outputs": [],
   "source": [
    "# importamos las librerías necesarias \n",
    "import pandas as pd\n",
    "import seaborn as sns\n",
    "import matplotlib.pyplot as plt\n",
    "import numpy as np\n",
    "%matplotlib inline"
   ]
  },
  {
   "cell_type": "code",
   "execution_count": null,
   "id": "82761686",
   "metadata": {},
   "outputs": [],
   "source": [
    "# Modificamos los parámetros de los gráficos en matplotlib\n",
    "from matplotlib.pyplot import rcParams\n",
    "\n",
    "rcParams['figure.figsize'] = 12, 6 # el primer dígito es el ancho y el segundo el alto\n",
    "rcParams[\"font.weight\"] = \"bold\"\n",
    "rcParams[\"font.size\"] = 10\n",
    "rcParams[\"axes.labelweight\"] = \"bold\""
   ]
  },
  {
   "cell_type": "markdown",
   "id": "c9417339",
   "metadata": {},
   "source": [
    "### **1- Análisis y filtrado de datos**"
   ]
  },
  {
   "cell_type": "markdown",
   "id": "b6bc87d0",
   "metadata": {},
   "source": [
    "### Dataset: [**California Housing**](https://scikit-learn.org/stable/datasets/real_world.html#california-housing-dataset)"
   ]
  },
  {
   "cell_type": "markdown",
   "id": "3a5c94c6",
   "metadata": {},
   "source": [
    "Este conjunto de datos se ha obtenido desde el repositorio de [StatLib](https://www.dcc.fc.up.pt/~ltorgo/Regression/cal_housing.html) y está disponible en los recursos de la librería *scikit-learn*. Se puede descargar utilizando la función *sklearn.datasets.fetch_california_housing()*.\n",
    "\n",
    "La variable objetivo es **el valor medio de la vivienda para los distritos de *California***, expresado en cientos de miles de dólares (*100,000 $*).\n",
    "\n",
    "Este conjunto de datos se derivó del censo estadounidense de 1990, utilizando **una fila por grupo de bloques de censo**. Un grupo de bloques es la unidad geográfica más pequeña para la cual la ***Oficina del Censo de EE. UU.*** publica datos de muestra (un grupo de bloques generalmente tiene una población entre 600 y 3,000 personas).\n",
    "\n",
    "Una vivienda o un hogar es un grupo de personas que residen dentro de una casa. Dado que se proporcionan el número promedio de habitaciones y dormitorios en este conjunto de datos por hogar, estas columnas pueden tomar valores sorprendentemente grandes para grupos de bloques con pocos hogares y muchas casas vacías, como resorts turísticas y vacacionales."
   ]
  },
  {
   "cell_type": "code",
   "execution_count": null,
   "id": "75ad8e7d",
   "metadata": {},
   "outputs": [],
   "source": [
    "from sklearn.datasets import fetch_california_housing\n",
    "\n",
    "california = fetch_california_housing()\n",
    "\n",
    "# Convertir los datos en pandas dataframe\n",
    "dataframe_x = pd.DataFrame(california.data, columns = california.feature_names)\n",
    "\n",
    "# La variable dependiente es el target y la llamammos dataframe_y\n",
    "dataframe_y = pd.DataFrame(california.target, columns = ['target'])\n",
    "\n",
    "# Combinamos ambos para obtener un dataframe con todas las variables explicativas y la variable objetivo\n",
    "df_california = dataframe_x.join(dataframe_y)\n",
    "\n",
    "df_california"
   ]
  },
  {
   "cell_type": "markdown",
   "id": "ec7b287a",
   "metadata": {},
   "source": [
    "Las variables que componen este dataset son:"
   ]
  },
  {
   "cell_type": "markdown",
   "id": "b8124c48",
   "metadata": {},
   "source": [
    "- **MedInc**: Ingresos medios en el grupo de bloques.  \n",
    "\n",
    "- **HouseAge**: Media de la antigüedad de las casas en el grupo de bloques.  \n",
    "\n",
    "- **AveRooms**: Número promedio de habitaciones/cuartos por hogar.  \n",
    "\n",
    "- **AveBedrms**: Número promedio de dormitorios por hogar.  \n",
    "\n",
    "- **Population**: Población del grupo de bloques.  \n",
    "\n",
    "- **AveOccup**: Número promedio de miembros del hogar.  \n",
    "\n",
    "- **Latitude**: Latitud del grupo de bloques.  \n",
    "\n",
    "- **Longitude**: Longitud del grupo de bloques. "
   ]
  },
  {
   "cell_type": "code",
   "execution_count": null,
   "id": "218f2965",
   "metadata": {},
   "outputs": [],
   "source": [
    "# Información del Dataframe descargado\n",
    "df_california.info()"
   ]
  },
  {
   "cell_type": "code",
   "execution_count": null,
   "id": "8fc303ae",
   "metadata": {},
   "outputs": [],
   "source": [
    "# Consultamos las principales estadísticas del conjunto de datos\n",
    "df_california.describe()"
   ]
  },
  {
   "cell_type": "markdown",
   "id": "e0864db8",
   "metadata": {},
   "source": [
    "La información del Dtaframe indica que no hay valores perdido. Aún así lo podemos comprobar a nivel de cada columna para asegurarnos:"
   ]
  },
  {
   "cell_type": "code",
   "execution_count": null,
   "id": "6b491cab",
   "metadata": {},
   "outputs": [],
   "source": [
    "df_california.isna().sum()"
   ]
  },
  {
   "cell_type": "markdown",
   "id": "afb670b3",
   "metadata": {},
   "source": [
    "Echamos un vistazo a la distribución de cada variable mediante diagrama de cajas."
   ]
  },
  {
   "cell_type": "code",
   "execution_count": null,
   "id": "ad258c0c",
   "metadata": {},
   "outputs": [],
   "source": [
    "sns.boxplot(data=df_california,  orient='v')"
   ]
  },
  {
   "cell_type": "markdown",
   "id": "3bbbdf33",
   "metadata": {},
   "source": [
    "Lo primero que podemos observar son los **valores muy diversos** que puede tomar la variable ***Population***"
   ]
  },
  {
   "cell_type": "code",
   "execution_count": null,
   "id": "4c78ddd0",
   "metadata": {},
   "outputs": [],
   "source": [
    "# Visualizamos la distribución de los valores mediante el histograma\n",
    "sns.histplot(df_california['Population'])"
   ]
  },
  {
   "cell_type": "code",
   "execution_count": null,
   "id": "bef958be",
   "metadata": {},
   "outputs": [],
   "source": [
    "# Visualizamos el diagrama de caja para marcar los cuartiles y detectar los valores atípicos\n",
    "sns.boxplot(data=df_california['Population'],  orient='v')"
   ]
  },
  {
   "cell_type": "markdown",
   "id": "ed32d51f",
   "metadata": {},
   "source": [
    "Además de contener valores que toman un rango amplio, se puede observar que existen una serie de **valores muy lejos de la distribución principal que elevan considerablemente la dispersión** de esta variable.  \n",
    "\n",
    "Filtramos primero los valores que se consideran **atípicos (outliers) en la representación de *boxplot* según la distancia intercuartil**."
   ]
  },
  {
   "cell_type": "code",
   "execution_count": null,
   "id": "c64056c0",
   "metadata": {},
   "outputs": [],
   "source": [
    "# Filtrar los valores atípicos basado en el rango intercuartil\n",
    "Q1 = df_california['Population'].quantile(0.25)\n",
    "Q3 = df_california['Population'].quantile(0.75)\n",
    "\n",
    "# IQR es el rango intercuartil \n",
    "IQR = Q3 - Q1    \n",
    "\n",
    "# Limites permitidos para los datos\n",
    "lim_inf = Q1 - 1.5 * IQR\n",
    "lim_sup = Q3 + 1.5 *IQR\n",
    "\n",
    "# Crear la máscara\n",
    "filtro_oulier = (df_california['Population'] < lim_inf) | (df_california['Population'] > lim_sup)\n",
    "\n",
    "# Filtramos el dataset aplicando la máscara\n",
    "df_pop_out = df_california[filtro_oulier] \n",
    "df_pop_out"
   ]
  },
  {
   "cell_type": "code",
   "execution_count": null,
   "id": "37834f87",
   "metadata": {},
   "outputs": [],
   "source": [
    "# Calculamos el porcentaje que componen estos valores respecto a la totalidad de los datos\n",
    "df_pop_out.shape[0]/df_california.shape[0] * 100"
   ]
  },
  {
   "cell_type": "markdown",
   "id": "904425e6",
   "metadata": {},
   "source": [
    "Se puede ver que estos datos **componen más de 5% de todos los registros que tenemos disponible** en el dataset original. Esto aumenta el peligro de pérdidad de información a la hora de generar un modelo que tiene que ser suficientemente enriquecido y genérico para poder predecir los precios de las viviendas en todos los distritos."
   ]
  },
  {
   "cell_type": "code",
   "execution_count": null,
   "id": "9b616203",
   "metadata": {},
   "outputs": [],
   "source": [
    "# Consultamos las principales estadísticas de los datos a filtrar\n",
    "df_pop_out.describe()"
   ]
  },
  {
   "cell_type": "code",
   "execution_count": null,
   "id": "a14aac64",
   "metadata": {},
   "outputs": [],
   "source": [
    "# Visualizar la distribución de los datos mediante el histograma\n",
    "sns.histplot(df_pop_out['Population'])"
   ]
  },
  {
   "cell_type": "markdown",
   "id": "2d805022",
   "metadata": {},
   "source": [
    "Se observa que los datos filtrados todavía contienen una serie de valores más concentrados que otros."
   ]
  },
  {
   "cell_type": "code",
   "execution_count": null,
   "id": "c95ff0a4",
   "metadata": {},
   "outputs": [],
   "source": [
    "sns.boxplot(data=df_pop_out['Population'].reset_index().drop('index', axis='columns'),  orient='v')"
   ]
  },
  {
   "cell_type": "markdown",
   "id": "5e8b3cfc",
   "metadata": {},
   "source": [
    "Antes de seguir analizando los valores de las variables del dataset, revisamos las relaciones que puede haber directamente entre cada variable de nuestro dataset.  "
   ]
  },
  {
   "cell_type": "code",
   "execution_count": null,
   "id": "0bd25863",
   "metadata": {},
   "outputs": [],
   "source": [
    "# Visualizamos las relaciones de cada par de variables existentes en el conjunto de datos\n",
    "sns.pairplot(data=df_california, height=3)\n",
    "plt.show()"
   ]
  },
  {
   "cell_type": "markdown",
   "id": "5171ee0d",
   "metadata": {},
   "source": [
    "Podemos también calcular la correlación por pares de columnas y visualizar los coeficientes correspondientes de cada par de variables: "
   ]
  },
  {
   "cell_type": "code",
   "execution_count": null,
   "id": "e6f20f4c",
   "metadata": {},
   "outputs": [],
   "source": [
    "df_corr = df_california.corr()\n",
    "df_corr"
   ]
  },
  {
   "cell_type": "code",
   "execution_count": null,
   "id": "b579c8d2",
   "metadata": {},
   "outputs": [],
   "source": [
    "plt.figure(figsize = (16,8))\n",
    "sns.heatmap(df_corr, cmap='Blues', annot = True)"
   ]
  },
  {
   "cell_type": "code",
   "execution_count": null,
   "id": "7d6e4ebf",
   "metadata": {},
   "outputs": [],
   "source": [
    "# Filtramos las variable con menos correlación con la variable objetivo:\n",
    "df_corr[df_corr['target'].abs() < 0.05]"
   ]
  },
  {
   "cell_type": "markdown",
   "id": "3689ba13",
   "metadata": {},
   "source": [
    "- **Population** aparece como una de las variables con menos correlación con la variable de salida o ***target***. No parece que tenga mucha relación con el resto salvo con **HouseAge** y quizá la variable **AveOccup** que podría acoger la información ocupacional de una zona y aportar algo más directamente relacionado con el precio de una vivienda.\n",
    "\n",
    "  Además, esta variable **por sus valores dispersos y el hecho de ser una variable cruda (no promediada) podría causarnos más problemas** más adelante a la hora de construir un modelo de regresión que añadir un valor predictivo, con lo cual procedemos a eliminarla.\n",
    "  \n",
    "- **AveBedrms** tiene una correlación muy baja con la variable objetivo cuando **AveRooms** tiene algo de relación. En realidad podemos pensar que **una variable que represente el concepto de número de cuartos en una vivienda debería de ser suficiente** para considerar este concepto en el modelo. El **AveBedrms** no tiene prácticamente ninguna relación con otras variables salvo el **AveRooms**, cuando ésta última tiene alguna correlación tanto con **target** como la variable **MedInc** y por lo tanto podemos quitar esta variable y eleminar una información menos relevante y posiblemente redundante.  \n",
    "\n",
    "- Las variable geográficas de **Longitude** y **Latitud** puede que tengan muy poca correlación por separado con la varieble objetivo. Sin embargo, cuando se representan conjuntamente se puede ver que tienen una relación considerable con los precios de las viviendas Californianas. "
   ]
  },
  {
   "cell_type": "code",
   "execution_count": null,
   "id": "f1fd0b36",
   "metadata": {},
   "outputs": [],
   "source": [
    "# Diagrama Scatterplot pintado en base a los precios de viviendas (la variable \"target\")\n",
    "plt.figure(figsize = (10,10))\n",
    "sns.scatterplot(x=df_california['Longitude'], y=df_california['Latitude'], hue=df_california['target'])\n",
    "plt.show()"
   ]
  },
  {
   "cell_type": "markdown",
   "id": "60612a08",
   "metadata": {},
   "source": [
    "Efectivamente hay una relación entre los puntos que se forman con pares de valores de estas dos variables y el precio de vivinedas. Básicamente **cada punto representa una posición geográfica en California**, en otras palabras tenemos pintado la ubicación de los grupos de bloques de viviendas presentes en nuestro dataset. A continuación vemos **una mapa censal del estado de California**: "
   ]
  },
  {
   "attachments": {
    "California_population_map.png": {
     "image/png": "[encoded data removed]"
    }
   },
   "cell_type": "markdown",
   "id": "45dab319",
   "metadata": {},
   "source": [
    "![California_population_map.png](attachment:California_population_map.png)"
   ]
  },
  {
   "cell_type": "markdown",
   "id": "67387853",
   "metadata": {},
   "source": [
    "Filtramos el dataset quitando las dos columnas mencionadas anteriormente."
   ]
  },
  {
   "cell_type": "code",
   "execution_count": null,
   "id": "b081f785",
   "metadata": {},
   "outputs": [],
   "source": [
    "df_california_filt = df_california.drop(labels=['Population', 'AveBedrms'], axis='columns')\n",
    "df_california_filt"
   ]
  },
  {
   "cell_type": "code",
   "execution_count": null,
   "id": "ffa53cea",
   "metadata": {},
   "outputs": [],
   "source": [
    "# Visualizar el diagrama de cajas\n",
    "sns.boxplot(data=df_california_filt,  orient='v')"
   ]
  },
  {
   "cell_type": "markdown",
   "id": "5aa9c299",
   "metadata": {},
   "source": [
    "Se observa que el conjunto de datos filtrados tiene menos dispersión en general salvo algunas de las variables. Las variables que pueden contener valores atípicos serían:\n",
    "- **AveRooms**\n",
    "- **AveOccup**"
   ]
  },
  {
   "cell_type": "markdown",
   "id": "75fc9313",
   "metadata": {},
   "source": [
    "Vamos a revisar los valores presentes en la variable ***AveRooms***:"
   ]
  },
  {
   "cell_type": "code",
   "execution_count": null,
   "id": "2224957f",
   "metadata": {},
   "outputs": [],
   "source": [
    "sns.boxplot(data=df_california_filt['AveRooms'],  orient='v')"
   ]
  },
  {
   "cell_type": "code",
   "execution_count": null,
   "id": "c8e6dc56",
   "metadata": {},
   "outputs": [],
   "source": [
    "sns.histplot(df_california_filt['AveRooms'])"
   ]
  },
  {
   "cell_type": "code",
   "execution_count": null,
   "id": "204cdf67",
   "metadata": {},
   "outputs": [],
   "source": [
    "# Filtrar los valores atípicos basado en el rango intercuartil\n",
    "Q1 = df_california_filt['AveRooms'].quantile(0.25)\n",
    "Q3 = df_california_filt['AveRooms'].quantile(0.75)\n",
    "\n",
    "# IQR es el rango intercuartil \n",
    "IQR = Q3 - Q1    \n",
    "\n",
    "# Limites permitidos para los datos\n",
    "lim_inf = Q1 - 1.5 * IQR\n",
    "lim_sup = Q3 + 1.5 *IQR\n",
    "\n",
    "# Crear la máscara\n",
    "filtro_oulier = (df_california_filt['AveRooms'] < lim_inf) | (df_california_filt['AveRooms'] > lim_sup)\n",
    "\n",
    "# Filtramos el dataset aplicando la máscara\n",
    "df_room_out = df_california_filt[filtro_oulier] \n",
    "df_room_out"
   ]
  },
  {
   "cell_type": "code",
   "execution_count": null,
   "id": "10007c87",
   "metadata": {},
   "outputs": [],
   "source": [
    "# El porcentaje que componen estos valores del todo el dataset\n",
    "df_room_out.shape[0]/df_california.shape[0] * 100"
   ]
  },
  {
   "cell_type": "markdown",
   "id": "19763ae1",
   "metadata": {},
   "source": [
    "El porcentaje de datos a filtrar se puede considerar algo elevado. A continuación vemos la distribución de los valores que se han detectado:"
   ]
  },
  {
   "cell_type": "code",
   "execution_count": null,
   "id": "86541864",
   "metadata": {},
   "outputs": [],
   "source": [
    "df_room_out.describe()"
   ]
  },
  {
   "cell_type": "code",
   "execution_count": null,
   "id": "65d3cdfd",
   "metadata": {},
   "outputs": [],
   "source": [
    "sns.histplot(df_room_out['AveRooms'])"
   ]
  },
  {
   "cell_type": "markdown",
   "id": "157527f7",
   "metadata": {},
   "source": [
    "Se observa alguna concentración todavía esn estos datos. Igualmente procedemos a detactar los valores que se consideran atípicos (outliers) entre este conjunto de datos."
   ]
  },
  {
   "cell_type": "code",
   "execution_count": null,
   "id": "e14e87cc",
   "metadata": {},
   "outputs": [],
   "source": [
    "sns.boxplot(data=df_room_out['AveRooms'].reset_index().drop('index', axis='columns'), orient='V')"
   ]
  },
  {
   "cell_type": "code",
   "execution_count": null,
   "id": "78b9b773",
   "metadata": {},
   "outputs": [],
   "source": [
    "# Filtrar los valores atípicos basado en el rango intercuartil\n",
    "Q1 = df_room_out['AveRooms'].quantile(0.25)\n",
    "Q3 = df_room_out['AveRooms'].quantile(0.75)\n",
    "\n",
    "# IQR es el rango intercuartil \n",
    "IQR = Q3 - Q1    \n",
    "\n",
    "# Limites permitidos para los datos \n",
    "lim_inf = Q1 - 1.5 * IQR\n",
    "lim_sup = Q3 + 1.5 *IQR\n",
    "\n",
    "# Crear la máscara\n",
    "filtro_oulier = (df_room_out['AveRooms'] < lim_inf) | (df_room_out['AveRooms'] > lim_sup)\n",
    "\n",
    "# Filtramos el dataset aplicando la máscara\n",
    "df_room_outliers = df_room_out[filtro_oulier] \n",
    "df_room_outliers"
   ]
  },
  {
   "cell_type": "code",
   "execution_count": null,
   "id": "e5850656",
   "metadata": {},
   "outputs": [],
   "source": [
    "# El porcentaje que componen estos valores de todo el dataset\n",
    "df_room_outliers.shape[0]/df_california.shape[0] * 100"
   ]
  },
  {
   "cell_type": "markdown",
   "id": "ff8c6eeb",
   "metadata": {},
   "source": [
    "Esta vez el porcentaje de datos a filtrar no parece preocupante para hacernos perder una parte de la información que contiene el dataset."
   ]
  },
  {
   "cell_type": "code",
   "execution_count": null,
   "id": "cd3b8e52",
   "metadata": {},
   "outputs": [],
   "source": [
    "df_room_outliers.describe()"
   ]
  },
  {
   "cell_type": "code",
   "execution_count": null,
   "id": "a0e3d220",
   "metadata": {},
   "outputs": [],
   "source": [
    "sns.histplot(df_room_outliers['AveRooms'])"
   ]
  },
  {
   "cell_type": "markdown",
   "id": "c97db75d",
   "metadata": {},
   "source": [
    "Ahora sí que los valores a filtrar tienen pinta de ser valores bastante dsipersos con una desviación importante. Como el porcentaje de estos datos no es elevado podemos proceder a aliminarlos y de esta manera filtrar otra vez el conjunto de datos."
   ]
  },
  {
   "cell_type": "code",
   "execution_count": null,
   "id": "502228bc",
   "metadata": {},
   "outputs": [],
   "source": [
    "df_california_filt.drop(index=df_room_outliers.index).reset_index(drop=True)"
   ]
  },
  {
   "cell_type": "code",
   "execution_count": null,
   "id": "f9400747",
   "metadata": {},
   "outputs": [],
   "source": [
    "# Comprobamos el tamaño del dataset filtrado por si acaso\n",
    "df_california_filt.shape[0] - df_room_outliers.shape[0]"
   ]
  },
  {
   "cell_type": "code",
   "execution_count": null,
   "id": "723976c9",
   "metadata": {},
   "outputs": [],
   "source": [
    "# Filtramos el dataset, eliminando estos registros identificados como outliers\n",
    "df_california_filt2 = df_california_filt.drop(index=df_room_outliers.index).reset_index(drop=True)\n",
    "df_california_filt2"
   ]
  },
  {
   "cell_type": "code",
   "execution_count": null,
   "id": "e00b58b1",
   "metadata": {},
   "outputs": [],
   "source": [
    "# Revisamos las características del nuevo dataset recién filtrado\n",
    "df_california_filt2.describe()"
   ]
  },
  {
   "cell_type": "code",
   "execution_count": null,
   "id": "65dbb3ac",
   "metadata": {},
   "outputs": [],
   "source": [
    "sns.boxplot(data=df_california_filt2,  orient='v')"
   ]
  },
  {
   "cell_type": "markdown",
   "id": "cd4abfb6",
   "metadata": {},
   "source": [
    "Ahora repasamos el conenido de la variable ***AveOccup*** con posibles outliers."
   ]
  },
  {
   "cell_type": "code",
   "execution_count": null,
   "id": "7bdd38d1",
   "metadata": {},
   "outputs": [],
   "source": [
    "sns.boxplot(data=df_california_filt2['AveOccup'],  orient='v')"
   ]
  },
  {
   "cell_type": "code",
   "execution_count": null,
   "id": "50d8f5fb",
   "metadata": {},
   "outputs": [],
   "source": [
    "sns.histplot(df_california_filt2['AveOccup'])"
   ]
  },
  {
   "cell_type": "code",
   "execution_count": null,
   "id": "dfaadac1",
   "metadata": {},
   "outputs": [],
   "source": [
    "# Filtrar los valores atípicos basado en el rango intercuartil\n",
    "Q1 = df_california_filt2['AveOccup'].quantile(0.25)\n",
    "Q3 = df_california_filt2['AveOccup'].quantile(0.75)\n",
    "\n",
    "# IQR es el rango intercuartil \n",
    "IQR = Q3 - Q1    \n",
    "\n",
    "# Limites permitidos para los datos\n",
    "lim_inf = Q1 - 1.5 * IQR\n",
    "lim_sup = Q3 + 1.5 *IQR\n",
    "\n",
    "# Crear la máscara\n",
    "filtro_oulier = (df_california_filt2['AveOccup'] < lim_inf) | (df_california_filt2['AveOccup'] > lim_sup)\n",
    "\n",
    "# Filtramos el dataset aplicando la máscara\n",
    "df_ocup_out = df_california_filt2[filtro_oulier] \n",
    "df_ocup_out"
   ]
  },
  {
   "cell_type": "code",
   "execution_count": null,
   "id": "c141ffdb",
   "metadata": {},
   "outputs": [],
   "source": [
    "# El porcentaje que componen estos valores de todo el dataset\n",
    "df_ocup_out.shape[0]/df_california.shape[0] * 100"
   ]
  },
  {
   "cell_type": "markdown",
   "id": "4a92189d",
   "metadata": {},
   "source": [
    "Otra vez el porcentaje de los datos a eliminar es algo difícil de ignorar. Consultamos las estadísticas de estos valores."
   ]
  },
  {
   "cell_type": "code",
   "execution_count": null,
   "id": "b0172767",
   "metadata": {},
   "outputs": [],
   "source": [
    "df_ocup_out.describe()"
   ]
  },
  {
   "cell_type": "code",
   "execution_count": null,
   "id": "5ba53c50",
   "metadata": {},
   "outputs": [],
   "source": [
    "sns.histplot(df_ocup_out['AveOccup'])"
   ]
  },
  {
   "cell_type": "markdown",
   "id": "440c7315",
   "metadata": {},
   "source": [
    "Se observa que los datos detectados como valores atípicos contienen todavía alguna concentración, por lo tanto vamos a intentar a identificar los valores atípicos dentro de este conjunto."
   ]
  },
  {
   "cell_type": "code",
   "execution_count": null,
   "id": "76ea1ce4",
   "metadata": {},
   "outputs": [],
   "source": [
    "sns.boxplot(data=df_ocup_out['AveOccup'].reset_index().drop('index', axis='columns'), orient='V')"
   ]
  },
  {
   "cell_type": "code",
   "execution_count": null,
   "id": "f32cda08",
   "metadata": {},
   "outputs": [],
   "source": [
    "# Filtrar los valores atípicos basada en el rango intercuartil\n",
    "Q1 = df_ocup_out['AveOccup'].quantile(0.25)\n",
    "Q3 = df_ocup_out['AveOccup'].quantile(0.75)\n",
    "\n",
    "# IQR es el rango intercuartil \n",
    "IQR = Q3 - Q1    \n",
    "\n",
    "# Limites permitidos para los datos\n",
    "lim_inf = Q1 - 1.5 * IQR\n",
    "lim_sup = Q3 + 1.5 *IQR\n",
    "\n",
    "# Crear la máscara\n",
    "filtro_oulier = (df_ocup_out['AveOccup'] < lim_inf) | (df_ocup_out['AveOccup'] > lim_sup)\n",
    "\n",
    "# Filtramos el dataset aplicando la máscara\n",
    "df_ocup_outliers = df_ocup_out[filtro_oulier] \n",
    "df_ocup_outliers"
   ]
  },
  {
   "cell_type": "code",
   "execution_count": null,
   "id": "7c6fcf0f",
   "metadata": {},
   "outputs": [],
   "source": [
    "# El porcentaje que componen estos valores de todo el dataset\n",
    "df_ocup_outliers.shape[0]/df_california.shape[0] * 100"
   ]
  },
  {
   "cell_type": "code",
   "execution_count": null,
   "id": "2cfe9961",
   "metadata": {},
   "outputs": [],
   "source": [
    "df_ocup_outliers.describe()"
   ]
  },
  {
   "cell_type": "code",
   "execution_count": null,
   "id": "172bf80f",
   "metadata": {},
   "outputs": [],
   "source": [
    "sns.histplot(df_ocup_outliers['AveOccup'])"
   ]
  },
  {
   "cell_type": "markdown",
   "id": "846e31c1",
   "metadata": {},
   "source": [
    "Como estos valores son muy dispersos y además forman un porcentaje muy pequeño respecto a todos los datos del dataset original, procedemos a eliminarlos."
   ]
  },
  {
   "cell_type": "code",
   "execution_count": null,
   "id": "b9e5dbc3",
   "metadata": {},
   "outputs": [],
   "source": [
    "df_california_filt2.drop(index=df_ocup_outliers.index).reset_index(drop=True)"
   ]
  },
  {
   "cell_type": "code",
   "execution_count": null,
   "id": "13a70a87",
   "metadata": {},
   "outputs": [],
   "source": [
    "# Comprobamos el tamaño de los datos resultantes\n",
    "df_california_filt2.shape[0] - df_ocup_outliers.shape[0]"
   ]
  },
  {
   "cell_type": "code",
   "execution_count": null,
   "id": "5bb46ca5",
   "metadata": {},
   "outputs": [],
   "source": [
    "df_california_filt3 = df_california_filt2.drop(index=df_ocup_outliers.index).reset_index(drop=True)\n",
    "df_california_filt3"
   ]
  },
  {
   "cell_type": "code",
   "execution_count": null,
   "id": "5ed7fd0d",
   "metadata": {},
   "outputs": [],
   "source": [
    "df_california_filt3.describe()"
   ]
  },
  {
   "cell_type": "code",
   "execution_count": null,
   "id": "ed50431f",
   "metadata": {},
   "outputs": [],
   "source": [
    "sns.boxplot(data=df_california_filt3,  orient='v')"
   ]
  },
  {
   "cell_type": "markdown",
   "id": "354d422d",
   "metadata": {},
   "source": [
    "Comprobamos el porcentaje de los registros del dataset que se ha obtenido finalmente aplicando todos los filtros anteriores: "
   ]
  },
  {
   "cell_type": "code",
   "execution_count": null,
   "id": "efbd9708",
   "metadata": {},
   "outputs": [],
   "source": [
    "df_california_filt3.shape[0] / df_california.shape[0] * 100"
   ]
  },
  {
   "cell_type": "markdown",
   "id": "d7cd33e0",
   "metadata": {},
   "source": [
    "Volvemos a investigar las relaciones entre los pares de variables, esta vez con los datos filtrados."
   ]
  },
  {
   "cell_type": "code",
   "execution_count": null,
   "id": "061842cd",
   "metadata": {},
   "outputs": [],
   "source": [
    "sns.pairplot(data=df_california_filt3, height=3)\n",
    "plt.show()"
   ]
  },
  {
   "cell_type": "markdown",
   "id": "61e9ddef",
   "metadata": {},
   "source": [
    "Se observa que por la eliminación de los valores considerablemente atípicos, los diagramas de dispersión visualizan mejor las relaciones de cada conjunto de variables presentes en el dataset."
   ]
  },
  {
   "cell_type": "code",
   "execution_count": null,
   "id": "c0a3a5b6",
   "metadata": {},
   "outputs": [],
   "source": [
    "plt.figure(figsize = (16,8))\n",
    "sns.heatmap(df_california_filt3.corr(), cmap='Blues', annot = True)"
   ]
  },
  {
   "cell_type": "markdown",
   "id": "835c87bf",
   "metadata": {},
   "source": [
    "---"
   ]
  },
  {
   "cell_type": "markdown",
   "id": "255a1180",
   "metadata": {},
   "source": [
    "### **2-Creación de modelos** "
   ]
  },
  {
   "cell_type": "code",
   "execution_count": null,
   "id": "df3ca368",
   "metadata": {},
   "outputs": [],
   "source": [
    "# Definimos los conjuntos de variables de entrada y la variable de salida\n",
    "X_multiple = df_california_filt3.drop(['target'], axis='columns')\n",
    "y_multiple = df_california_filt3['target']"
   ]
  },
  {
   "cell_type": "code",
   "execution_count": null,
   "id": "5ad112da",
   "metadata": {},
   "outputs": [],
   "source": [
    "# Dividir el dataset en Training y Test set\n",
    "from sklearn.model_selection import train_test_split\n",
    "X_train, X_test, y_train, y_test = train_test_split(X_multiple, y_multiple, test_size=0.2, random_state=222)"
   ]
  },
  {
   "cell_type": "markdown",
   "id": "4b8c2d9a",
   "metadata": {},
   "source": [
    "### Regresión lineal múltiple"
   ]
  },
  {
   "cell_type": "markdown",
   "id": "1a125fbc",
   "metadata": {},
   "source": [
    "### **`Ejercicio 11.1`**\n",
    "\n",
    "Vamos a realizar el primer modelo de regresión:\n",
    "\n",
    "**`11.1.1`** Construye como ejercicios anteriores en este bloque, un modelo de *Regresión lineal múltiple* para este conjunto de variables de entrada y la variable de salida.\n",
    "   \n",
    "**`11.1.2`** Consulta y visualiza los coeficientes del modelo ajustado.  \n",
    "\n",
    "**`11.1.3`** Calcula diferentes métricas para evaluar tu modelo y explica si este modelo tiene un rendimiendo aceptable:  \n",
    "- MAE\n",
    "- MAPE\n",
    "- MSE\n",
    "- RMSE\n",
    "- $R^2$"
   ]
  },
  {
   "cell_type": "code",
   "execution_count": null,
   "id": "bbba8645",
   "metadata": {},
   "outputs": [],
   "source": [
    "## Solución\n",
    "# Ejercicio 11.1.1"
   ]
  },
  {
   "cell_type": "code",
   "execution_count": null,
   "id": "d6dfd66e",
   "metadata": {},
   "outputs": [],
   "source": [
    "## Solución\n",
    "# Ejercicio 11.1.2"
   ]
  },
  {
   "cell_type": "code",
   "execution_count": null,
   "id": "79895323",
   "metadata": {},
   "outputs": [],
   "source": [
    "## Solución\n",
    "# Ejercicio 11.1.3"
   ]
  },
  {
   "cell_type": "markdown",
   "id": "592ed4e5",
   "metadata": {},
   "source": [
    "### Ridge (L2) regression"
   ]
  },
  {
   "cell_type": "markdown",
   "id": "ace5da25",
   "metadata": {},
   "source": [
    "### **`Ejercicio 11.2`**\n",
    "\n",
    "Vamos a realizar otro tipo de modelo de regresión:\n",
    "\n",
    "**`11.2.1`** Construye como ejercicios anteriores en este bloque, un modelo de *Regresión con la penalización tipo Ridge (L2)* para este conjunto de variables de entrada y la variable de salida. (poniendo `alpha = 1, random_state=100`)\n",
    "   \n",
    "**`11.2.2`** Consulta y visualiza y compara como los ejercicios anteriores de este bloque los coeficientes del modelo ajustado.  \n",
    "\n",
    "**`11.2.3`** Calcula diferentes métricas para evaluar tu modelo y explica si este modelo tiene un rendimiendo aceptable en comparación con el modelo anterior:  \n",
    "  \n",
    "- MAE\n",
    "- MAPE\n",
    "- MSE\n",
    "- RMSE\n",
    "- $R^2$\n",
    "\n"
   ]
  },
  {
   "cell_type": "code",
   "execution_count": null,
   "id": "62f32507",
   "metadata": {},
   "outputs": [],
   "source": [
    "## Solución\n",
    "# Ejercicio 11.2.1\n"
   ]
  },
  {
   "cell_type": "code",
   "execution_count": null,
   "id": "fc34140d",
   "metadata": {},
   "outputs": [],
   "source": [
    "## Solución\n",
    "# Ejercicio 11.2.2\n"
   ]
  },
  {
   "cell_type": "code",
   "execution_count": null,
   "id": "064bf546",
   "metadata": {},
   "outputs": [],
   "source": [
    "## Solución\n",
    "# Ejercicio 11.2.3\n"
   ]
  },
  {
   "cell_type": "markdown",
   "id": "73d1382a",
   "metadata": {},
   "source": [
    "### Lasso (L1) regression"
   ]
  },
  {
   "cell_type": "markdown",
   "id": "87d57905",
   "metadata": {},
   "source": [
    "### **`Ejercicio 11.3`**\n",
    "\n",
    "Vamos a realizar otro tipo de modelo de regresión:\n",
    "\n",
    "**`11.3.1`** Construye como ejercicios anteriores en este bloque, un modelo de *Regresión con la penalización tipo Lasso (L1)* para este conjunto de variables de entrada y la variable de salida. (poniendo `alpha = 1, random_state=100`)\n",
    "   \n",
    "**`11.3.2`** Consulta y visualiza y compara como los ejercicios anteriores de este bloque los coeficientes del modelo ajustado.  \n",
    "\n",
    "**`11.3.3`** Calcula diferentes métricas para evaluar tu modelo y explica si este modelo tiene un rendimiendo aceptable en comparación con los modelos anteriores:  \n",
    "  \n",
    "- MAE\n",
    "- MAPE\n",
    "- MSE\n",
    "- RMSE\n",
    "- $R^2$\n",
    "\n"
   ]
  },
  {
   "cell_type": "code",
   "execution_count": null,
   "id": "de0e5c61",
   "metadata": {},
   "outputs": [],
   "source": [
    "## Solución\n",
    "# Ejercicio 11.3.1\n"
   ]
  },
  {
   "cell_type": "code",
   "execution_count": null,
   "id": "a5cb0869",
   "metadata": {},
   "outputs": [],
   "source": [
    "## Solución\n",
    "# Ejercicio 11.3.2"
   ]
  },
  {
   "cell_type": "code",
   "execution_count": null,
   "id": "b3e0167e",
   "metadata": {},
   "outputs": [],
   "source": [
    "## Solución\n",
    "# Ejercicio 11.3.3\n"
   ]
  },
  {
   "cell_type": "markdown",
   "id": "bff1aab9",
   "metadata": {},
   "source": [
    "### Elastic Net regression"
   ]
  },
  {
   "cell_type": "markdown",
   "id": "b39f4bea",
   "metadata": {},
   "source": [
    "### **`Ejercicio 11.4`**\n",
    "\n",
    "Vamos a realizar otro tipo de modelo de regresión:\n",
    "\n",
    "**`11.4.1`** Construye como ejercicios anteriores en este bloque, un modelo de *Regresión combinando las penalizaciones mediante Elastic Net* para este conjunto de variables de entrada y la variable de salida. (poniendo `alpha=1, l1_ratio=0.2, random_state=100`)\n",
    "   \n",
    "**`11.4.2`** Consulta y visualiza y compara como los ejercicios anteriores de este bloque los coeficientes del modelo ajustado.  \n",
    "\n",
    "**`11.4.3`** Calcula diferentes métricas para evaluar tu modelo y explica si este modelo tiene un rendimiendo aceptable en comparación con los modelos anteriores:  \n",
    "  \n",
    "- MAE\n",
    "- MAPE\n",
    "- MSE\n",
    "- RMSE\n",
    "- $R^2$\n",
    "\n"
   ]
  },
  {
   "cell_type": "code",
   "execution_count": null,
   "id": "e9059a85",
   "metadata": {},
   "outputs": [],
   "source": [
    "## Solución\n",
    "# Ejercicio 11.4.1"
   ]
  },
  {
   "cell_type": "code",
   "execution_count": null,
   "id": "2d3e541c",
   "metadata": {},
   "outputs": [],
   "source": [
    "## Solución\n",
    "# Ejercicio 11.4.2\n"
   ]
  },
  {
   "cell_type": "code",
   "execution_count": null,
   "id": "2d2b6a69",
   "metadata": {},
   "outputs": [],
   "source": [
    "## Solución\n",
    "# Ejercicio 11.4.3\n"
   ]
  },
  {
   "cell_type": "markdown",
   "id": "1d96d564",
   "metadata": {},
   "source": [
    "### **`Ejercicio 11.5`**\n",
    "\n",
    "Realiza una busqueda en estos rangos indicados con el método `ElasticNetCV` y resuelve los siguientes puntos:\n",
    "\n",
    "- $\\alpha$:  valores entre `0.6` y `5` con pasos de una centésima.\n",
    "- $l1_{ratio}$:  valores entre este listado: `[.1, .2, .3, .4, .5, .7, .9, .95, .99, 1]` \n",
    "- para `KFold` poner >>> `n_splits=10` y `random_state=111`  \n",
    "- para `ElasticNetCV` poner >>> `random_state=100`\n",
    "\n",
    "**`11.5.1`** Entrena un modelo tipo regresión lineal múltiple con los hiperparámetros resultantes y sca las predicciones correspondientes al conjunto de datos de prueba.  \n",
    "\n",
    "**`11.5.2`** Visualiza los coeficientes del modelo y comparalos con los coeficientes correspondientes al modelo original (primer modelo sin regularización).  \n",
    "\n",
    "**`11.5.3`** Calcula diferentes métricas para evaluar tu modelo y analiza su rendimiendo en comparación con modelos anteriores.\n",
    "- MAE\n",
    "- MAPE\n",
    "- MSE\n",
    "- RMSE\n",
    "- $R^2$  "
   ]
  },
  {
   "cell_type": "code",
   "execution_count": null,
   "id": "c3d81d35",
   "metadata": {},
   "outputs": [],
   "source": [
    "## Solución\n",
    "# Ejercicio 11.5.1\n"
   ]
  },
  {
   "cell_type": "code",
   "execution_count": null,
   "id": "942bdd09",
   "metadata": {},
   "outputs": [],
   "source": [
    "## Solución\n",
    "# Ejercicio 11.5.2\n"
   ]
  },
  {
   "cell_type": "code",
   "execution_count": null,
   "id": "b5d6ceb4",
   "metadata": {},
   "outputs": [],
   "source": [
    "## Solución\n",
    "# Ejercicio 11.5.3\n"
   ]
  },
  {
   "cell_type": "markdown",
   "id": "07ceb7ed",
   "metadata": {},
   "source": [
    "---"
   ]
  },
  {
   "cell_type": "markdown",
   "id": "fe4a55b7",
   "metadata": {},
   "source": [
    "### Decision Trees"
   ]
  },
  {
   "cell_type": "markdown",
   "id": "1994d9fe",
   "metadata": {},
   "source": [
    "### **`Ejercicio 11.6`**\n",
    "\n",
    "**`11.6.1`** Saca la gráfica de *Model Complexity Curve* que dibuja la evolución de R_cuadrado de training versus del test para el rango de profundidades entre `2` y `20` **no inclusive** indicando `random_state=100.\n",
    "\n",
    "**`11.6.2`** Realiza una búsqueda del valor de hiperparámetro y el modelo óptimo usando la técnica de *Grid Search* para dicho rango de profundidades y compáralo con el valor sugerido del paso anterior.  \n",
    "- para `KFold`  >>> `n_splits=10` y `random_state=111`  \n",
    "- para `GridSearchCV`  >>> `random_state=100`  \n",
    "\n",
    "**`11.6.3`** Calcula diferentes métricas para evaluar tu modelo y analiza su rendimiendo en comparación con modelos anteriores.\n",
    "- MAE\n",
    "- MAPE\n",
    "- MSE\n",
    "- RMSE\n",
    "- $R^2$    \n",
    "\n",
    "**`11.6.4`** Define una función que coja la profundidad máxima para un árbol y dibuje el *Learning Curve* que visualiza la evolución del rendimiento del modelo tanto en training como en test, en función del tamaño de subconjuntos de datos de entrenamiento que se aumentan desde `20` puntos **de 10 en 10** hasta considerar todos los datos de training.\n",
    "\n",
    "**`11.6.5`** Saca la gráfica de el *Learning Curve* para el modelo óptimo, usando la función definida en el paso anterior y explica si este modelo tiene preferencia o no, comparando con modelos anteriores."
   ]
  },
  {
   "cell_type": "code",
   "execution_count": null,
   "id": "361bb699",
   "metadata": {},
   "outputs": [],
   "source": [
    "## Solución\n",
    "# Ejercicio 11.6.1\n"
   ]
  },
  {
   "cell_type": "code",
   "execution_count": null,
   "id": "fbdb6254",
   "metadata": {},
   "outputs": [],
   "source": [
    "## Solución\n",
    "# Ejercicio 11.6.2\n"
   ]
  },
  {
   "cell_type": "code",
   "execution_count": null,
   "id": "8f080111",
   "metadata": {},
   "outputs": [],
   "source": [
    "## Solución\n",
    "# Ejercicio 11.6.3\n"
   ]
  },
  {
   "cell_type": "code",
   "execution_count": null,
   "id": "8740aa7e",
   "metadata": {},
   "outputs": [],
   "source": [
    "## Solución\n",
    "# Ejercicio 11.6.4\n"
   ]
  },
  {
   "cell_type": "code",
   "execution_count": null,
   "id": "d80d60cb",
   "metadata": {},
   "outputs": [],
   "source": [
    "## Solución\n",
    "# Ejercicio 11.6.5\n"
   ]
  },
  {
   "cell_type": "markdown",
   "id": "10e301fe",
   "metadata": {},
   "source": [
    "---"
   ]
  },
  {
   "cell_type": "markdown",
   "id": "c45425a5",
   "metadata": {},
   "source": [
    "#### Random Forest"
   ]
  },
  {
   "cell_type": "markdown",
   "id": "d22f2970",
   "metadata": {},
   "source": [
    "### **`Ejercicio 11.7`**\n",
    "\n",
    "**`11.7.1`** Saca la gráfica de *Model Complexity Curve* que dibuja la evolución de R_cuadrado de training, test y OOB para el rango de tamaño del bosque entre `10` y `300` **inclusive** con pasos de `10` (poniendo `random_state=100`).  \n",
    "\n",
    "**`11.7.2`** Saca la gráfica de *Model Complexity Curve* que dibuja la evolución de R_cuadrado de training, test y OOB para el rango de profundidades de los árboles del bosque entre `2` y `40` **inclusive** considerando el número óptimo de los árboles estimado en el paso anterior (poniendo `random_state=100`). \n",
    "\n",
    "**`11.7.3`** Saca la gráfica de *Model Complexity Curve* que dibuja la evolución de R_cuadrado de training, test y OOB para diferentes números de predictores considerados en cada bifurcación de los árboles, considerando el número óptimo de los árboles estimado y la profundidad máxima estimada en los puntos anteriores (poniendo `random_state=100`). \n",
    "\n",
    "**`11.7.4`** Para el modelo con los hiperparámetros óptimos que se intuyen de los pasos anteriores, Calcula diferentes métricas para evaluarlo y analiza su rendimiendo en comparación con otros modelos desarrollados anteriormente.\n",
    "- MAE  \n",
    "- MAPE  \n",
    "- MSE  \n",
    "- RMSE  \n",
    "- $R^2$  \n",
    "- OOB $R^2$  \n",
    "    \n",
    "**`11.7.5`** Visualiza los resultados de este último modelo mediante la gráfica de *\"Valores reales vs. predichos\"* para el conjunto de test. \n",
    "\n",
    "**`11.7.6`** Saca la gráfica del *Learning Curve* para el modelo estimado, definiendo y aplicando una función nueva al respecto y explica si este modelo tiene un buen rendimiento comparando con modelos anteriores.\n",
    "\n",
    "**`11.7.7`** Para los rangos indicados, realiza una búsqueda del modelo óptimo usando la técnica de *Grid Search* de *`5-fold-CV`*.\n",
    "-             parametros={'n_estimators': [100, 110, 120, 130, 140, 150],\n",
    "                          'max_depth': [15, 16, 17, 18, 19, 20, 21, 22, 23, 24, 25],\n",
    "                          'max_features': [2, 3, 4, 5, 6]}\n",
    "- para `KFold`  >>> `n_splits=5` y `random_state=111`  \n",
    "- para `GridSearchCV`  >>> `random_state=100` \n",
    "\n",
    "**`11.7.8`** Calcula diferentes métricas para evaluar el modelo óptimo según la busqueda de *Grid Search* y analiza su rendimiendo en comparación con modelos anteriores.  \n",
    "- MAE  \n",
    "- MAPE  \n",
    "- MSE  \n",
    "- RMSE  \n",
    "- $R^2$     \n",
    "\n",
    "**`11.7.9`** Saca la gráfica del *Learning Curve* para el modelo óptimo, aplicando la función definida en los pasos anteriores y explica si este modelo tiene preferencia comparando con modelos anteriores.\n"
   ]
  },
  {
   "cell_type": "code",
   "execution_count": null,
   "id": "1fd5ecc3",
   "metadata": {},
   "outputs": [],
   "source": [
    "## Solución\n",
    "# Ejercicio 11.7.1\n"
   ]
  },
  {
   "cell_type": "code",
   "execution_count": null,
   "id": "c1c90b02",
   "metadata": {},
   "outputs": [],
   "source": [
    "## Solución\n",
    "# Ejercicio 11.7.2\n"
   ]
  },
  {
   "cell_type": "code",
   "execution_count": null,
   "id": "eeb29dbe",
   "metadata": {},
   "outputs": [],
   "source": [
    "## Solución\n",
    "# Ejercicio 11.7.3\n"
   ]
  },
  {
   "cell_type": "code",
   "execution_count": null,
   "id": "58d40780",
   "metadata": {},
   "outputs": [],
   "source": [
    "## Solución\n",
    "# Ejercicio 11.7.4\n"
   ]
  },
  {
   "cell_type": "code",
   "execution_count": null,
   "id": "f9029a66",
   "metadata": {},
   "outputs": [],
   "source": [
    "## Solución\n",
    "# Ejercicio 11.7.5\n"
   ]
  },
  {
   "cell_type": "code",
   "execution_count": null,
   "id": "c5fd8218",
   "metadata": {},
   "outputs": [],
   "source": [
    "## Solución\n",
    "# Ejercicio 11.7.6\n"
   ]
  },
  {
   "cell_type": "code",
   "execution_count": null,
   "id": "f0a5e44e",
   "metadata": {},
   "outputs": [],
   "source": [
    "## Solución\n",
    "# Ejercicio 11.7.7\n"
   ]
  },
  {
   "cell_type": "code",
   "execution_count": null,
   "id": "fe599536",
   "metadata": {},
   "outputs": [],
   "source": [
    "## Solución\n",
    "# Ejercicio 11.7.8\n"
   ]
  },
  {
   "cell_type": "code",
   "execution_count": null,
   "id": "6bca72dc",
   "metadata": {},
   "outputs": [],
   "source": [
    "## Solución\n",
    "# Ejercicio 11.7.9\n"
   ]
  },
  {
   "cell_type": "markdown",
   "id": "eae350ab",
   "metadata": {},
   "source": [
    "---"
   ]
  },
  {
   "cell_type": "markdown",
   "id": "ac6ea9c2",
   "metadata": {},
   "source": [
    "### Neural Networks"
   ]
  },
  {
   "cell_type": "markdown",
   "id": "594bf041",
   "metadata": {},
   "source": [
    "### **`Ejercicio 11.8`**\n",
    "\n",
    "Vamos a realizar otro tipo de modelo de regresión:\n",
    "\n",
    "**`11.8.1`** Construye como ejercicios anteriores en este bloque, un modelo de *Regresión con Redes Neuronales* para este conjunto de variables de entrada y la variable de salida (poniendo `random_state=100`) y después calcula diferentes métricas para evaluar este modelo y explica si tiene un rendimiendo aceptable en comparación con los modelos anteriores:  \n",
    "  \n",
    "- MAE\n",
    "- MAPE\n",
    "- MSE\n",
    "- RMSE\n",
    "- $R^2$\n",
    "\n",
    "**`11.8.2`** Construye otro modelo indicando estos hiperparámetros:\n",
    "- hidden_layer_sizes=(21,21),\n",
    "- activation='tanh',\n",
    "- solver='lbfgs',\n",
    "- max_iter=10000,\n",
    "- alpha=1e-5,\n",
    "- tol=1e-5,\n",
    "- random_state=100\n",
    "\n",
    "y compara el rendimiento de este nuevo modelo con el resto de los modelos anteriores.\n",
    "\n",
    "**`11.8.3`** Define una nueva función para sacar la gráfica del *Learning Curve* para las redes neuronales y aplícala para comparar los dos modelos anteriores.\n",
    "\n",
    "\n",
    "**`11.8.4`** Para los rangos indicados, realiza una búsqueda del modelo óptimo usando la técnica de *Grid Search* introduciendo:\n",
    "\n",
    "-             parametros={\"activation\": ['relu', 'tanh', 'logistic'], \n",
    "                          \"solver\": ['adam', 'lbfgs', 'sgd'],\n",
    "                          \"hidden_layer_sizes\": list(itertools.product([5,10,20], repeat=3))} \n",
    "\n",
    "- para `KFold`  >>> `n_splits=5` y `random_state=111`  \n",
    "- para `GridSearchCV`  >>> `random_state=100` \n",
    "\n",
    "\n",
    "**`11.8.5`** Calcula diferentes métricas para evaluar el modelo óptimo, saca su gráfica de *Learning Curve* explica si este modelo tiene un rendimiendo aceptable en comparación con los modelos anteriores y finalmente a qué modelo escogerías para ser usado como un predictor de precios de viviendas en California."
   ]
  },
  {
   "cell_type": "code",
   "execution_count": null,
   "id": "3657cc45",
   "metadata": {},
   "outputs": [],
   "source": [
    "## Solución\n",
    "# Ejercicio 11.8.1\n"
   ]
  },
  {
   "cell_type": "code",
   "execution_count": null,
   "id": "f2d27694",
   "metadata": {},
   "outputs": [],
   "source": [
    "## Solución\n",
    "# Ejercicio 11.8.2"
   ]
  },
  {
   "cell_type": "code",
   "execution_count": null,
   "id": "fd31d671",
   "metadata": {},
   "outputs": [],
   "source": [
    "## Solución\n",
    "# Ejercicio 11.8.3"
   ]
  },
  {
   "cell_type": "code",
   "execution_count": null,
   "id": "ba9451ed",
   "metadata": {},
   "outputs": [],
   "source": [
    "## Solución\n",
    "# Ejercicio 11.8.4"
   ]
  },
  {
   "cell_type": "code",
   "execution_count": null,
   "id": "2bfdcf6d",
   "metadata": {},
   "outputs": [],
   "source": [
    "## Solución\n",
    "# Ejercicio 11.8.5\n"
   ]
  }
 ],
 "metadata": {
  "kernelspec": {
   "display_name": "Python 3 (ipykernel)",
   "language": "python",
   "name": "python3"
  },
  "language_info": {
   "codemirror_mode": {
    "name": "ipython",
    "version": 3
   },
   "file_extension": ".py",
   "mimetype": "text/x-python",
   "name": "python",
   "nbconvert_exporter": "python",
   "pygments_lexer": "ipython3",
   "version": "3.9.12"
  },
  "vscode": {
   "interpreter": {
    "hash": "ad2bdc8ecc057115af97d19610ffacc2b4e99fae6737bb82f5d7fb13d2f2c186"
   }
  }
 },
 "nbformat": 4,
 "nbformat_minor": 5
}
